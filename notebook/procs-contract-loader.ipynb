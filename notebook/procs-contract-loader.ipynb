{
 "cells": [
  {
   "cell_type": "code",
   "execution_count": 3,
   "metadata": {
    "ExecuteTime": {
     "end_time": "2020-07-25T23:55:41.774690Z",
     "start_time": "2020-07-25T23:55:41.575476Z"
    }
   },
   "outputs": [
    {
     "name": "stdout",
     "output_type": "stream",
     "text": [
      "2020-07-26 07:55:41,606 - bluefn.eth.contract_loader - INFO - current dir: /Users/xiaofeiwu/jcloud/vagrant/sagas/projs/bluefn/notebook\n"
     ]
    }
   ],
   "source": [
    "from bluefn.eth.contract_loader import ContractLoader\n",
    "cl=ContractLoader()\n",
    "c=cl.contract('../contracts/foo.sol')"
   ]
  },
  {
   "cell_type": "code",
   "execution_count": 4,
   "metadata": {
    "ExecuteTime": {
     "end_time": "2020-07-25T23:56:33.296805Z",
     "start_time": "2020-07-25T23:56:33.272505Z"
    }
   },
   "outputs": [
    {
     "data": {
      "text/plain": [
       "('0x7E5F4552091A69125d5DfCb7b8C2659029395Bdf',\n",
       " '0x2B5AD5c4795c026514f8317c7a215E218DcCD6cF',\n",
       " '0x6813Eb9362372EEF6200f3b1dbC3f819671cBA69',\n",
       " '0x1efF47bc3a10a45D4B230B5d10E37751FE6AA718',\n",
       " '0xe1AB8145F7E55DC933d51a18c793F901A3A0b276',\n",
       " '0xE57bFE9F44b819898F47BF37E5AF72a0783e1141',\n",
       " '0xd41c057fd1c78805AAC12B0A94a405c0461A6FBb',\n",
       " '0xF1F6619B38A98d6De0800F1DefC0a6399eB6d30C',\n",
       " '0xF7Edc8FA1eCc32967F827C9043FcAe6ba73afA5c',\n",
       " '0x4CCeBa2d7D2B4fdcE4304d3e09a1fea9fbEb1528')"
      ]
     },
     "execution_count": 4,
     "metadata": {},
     "output_type": "execute_result"
    }
   ],
   "source": [
    "cl.eth_tester.get_accounts()"
   ]
  },
  {
   "cell_type": "code",
   "execution_count": 7,
   "metadata": {
    "ExecuteTime": {
     "end_time": "2020-07-25T23:57:29.548407Z",
     "start_time": "2020-07-25T23:57:29.368474Z"
    }
   },
   "outputs": [
    {
     "data": {
      "text/plain": [
       "'testing contracts is easy'"
      ]
     },
     "execution_count": 7,
     "metadata": {},
     "output_type": "execute_result"
    }
   ],
   "source": [
    "tx_hash = c.functions.setBar(\n",
    "    \"testing contracts is easy\",\n",
    ").transact({\n",
    "    'from': cl.w3.eth.accounts[1],\n",
    "})\n",
    "\n",
    "cl.w3.eth.waitForTransactionReceipt(tx_hash, 180)\n",
    "# verify that the contract is now using the updated greeting\n",
    "hw = c.caller.bar()\n",
    "hw"
   ]
  },
  {
   "cell_type": "code",
   "execution_count": 10,
   "metadata": {
    "ExecuteTime": {
     "end_time": "2020-07-26T00:00:28.169159Z",
     "start_time": "2020-07-26T00:00:28.145118Z"
    }
   },
   "outputs": [
    {
     "data": {
      "text/plain": [
       "(AttributeDict({'args': AttributeDict({'_bar': 'testing contracts is easy'}),\n",
       "  'event': 'barred',\n",
       "  'logIndex': 0,\n",
       "  'transactionIndex': 0,\n",
       "  'transactionHash': HexBytes('0x870e4b504864f13807e4e42276f4c6221b25f8693ecc39e79f7fc6d526c02cea'),\n",
       "  'address': '0xF2E246BB76DF876Cef8b38ae84130F4F55De395b',\n",
       "  'blockHash': HexBytes('0x052bc0faa68486ed9631f68cd397c48f68293531e561c6c74eb931fb6f7e0c43'),\n",
       "  'blockNumber': 3}),)"
      ]
     },
     "execution_count": 10,
     "metadata": {},
     "output_type": "execute_result"
    }
   ],
   "source": [
    "events=c.events.barred.getLogs()\n",
    "events"
   ]
  },
  {
   "cell_type": "code",
   "execution_count": 11,
   "metadata": {
    "ExecuteTime": {
     "end_time": "2020-07-26T00:00:32.311006Z",
     "start_time": "2020-07-26T00:00:32.304568Z"
    }
   },
   "outputs": [
    {
     "data": {
      "text/plain": [
       "'testing contracts is easy'"
      ]
     },
     "execution_count": 11,
     "metadata": {},
     "output_type": "execute_result"
    }
   ],
   "source": [
    "event=events[0]\n",
    "event.args._bar"
   ]
  }
 ],
 "metadata": {
  "kernelspec": {
   "display_name": "Python 3",
   "language": "python",
   "name": "python3"
  },
  "language_info": {
   "codemirror_mode": {
    "name": "ipython",
    "version": 3
   },
   "file_extension": ".py",
   "mimetype": "text/x-python",
   "name": "python",
   "nbconvert_exporter": "python",
   "pygments_lexer": "ipython3",
   "version": "3.7.7"
  },
  "varInspector": {
   "cols": {
    "lenName": 16,
    "lenType": 16,
    "lenVar": 40
   },
   "kernels_config": {
    "python": {
     "delete_cmd_postfix": "",
     "delete_cmd_prefix": "del ",
     "library": "var_list.py",
     "varRefreshCmd": "print(var_dic_list())"
    },
    "r": {
     "delete_cmd_postfix": ") ",
     "delete_cmd_prefix": "rm(",
     "library": "var_list.r",
     "varRefreshCmd": "cat(var_dic_list()) "
    }
   },
   "types_to_exclude": [
    "module",
    "function",
    "builtin_function_or_method",
    "instance",
    "_Feature"
   ],
   "window_display": false
  }
 },
 "nbformat": 4,
 "nbformat_minor": 4
}
