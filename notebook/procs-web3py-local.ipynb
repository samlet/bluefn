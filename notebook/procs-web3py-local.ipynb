{
 "cells": [
  {
   "cell_type": "code",
   "execution_count": 1,
   "metadata": {
    "ExecuteTime": {
     "end_time": "2020-07-27T05:42:25.878710Z",
     "start_time": "2020-07-27T05:42:24.231471Z"
    }
   },
   "outputs": [
    {
     "data": {
      "text/plain": [
       "True"
      ]
     },
     "execution_count": 1,
     "metadata": {},
     "output_type": "execute_result"
    }
   ],
   "source": [
    "from web3 import Web3\n",
    "from web3 import Web3, EthereumTesterProvider\n",
    "# w3 = Web3(Web3.HTTPProvider('http://127.0.0.1:8545'))\n",
    "w3 = Web3(EthereumTesterProvider())\n",
    "w3.isConnected()"
   ]
  },
  {
   "cell_type": "code",
   "execution_count": 2,
   "metadata": {
    "ExecuteTime": {
     "end_time": "2020-07-25T21:58:43.855708Z",
     "start_time": "2020-07-25T21:58:43.844991Z"
    }
   },
   "outputs": [
    {
     "data": {
      "text/plain": [
       "0"
      ]
     },
     "execution_count": 2,
     "metadata": {},
     "output_type": "execute_result"
    }
   ],
   "source": [
    "w3.eth.blockNumber"
   ]
  },
  {
   "cell_type": "code",
   "execution_count": 3,
   "metadata": {
    "ExecuteTime": {
     "end_time": "2020-07-25T21:58:43.888778Z",
     "start_time": "2020-07-25T21:58:43.860205Z"
    }
   },
   "outputs": [
    {
     "data": {
      "text/plain": [
       "AttributeDict({'number': 0,\n",
       " 'hash': HexBytes('0x7591f978d0cccb0f0caa3108fdc4e5708f6e1145d2c233de06d956381530d371'),\n",
       " 'parentHash': HexBytes('0x0000000000000000000000000000000000000000000000000000000000000000'),\n",
       " 'nonce': HexBytes('0x000000000000002a'),\n",
       " 'sha3Uncles': HexBytes('0x1dcc4de8dec75d7aab85b567b6ccd41ad312451b948a7413f0a142fd40d49347'),\n",
       " 'logs_bloom': 0,\n",
       " 'transactionsRoot': HexBytes('0x56e81f171bcc55a6ff8345e692c0f86e5b48e01b996cadc001622fb5e363b421'),\n",
       " 'receipts_root': '0x56e81f171bcc55a6ff8345e692c0f86e5b48e01b996cadc001622fb5e363b421',\n",
       " 'stateRoot': HexBytes('0xf1588db9a9f1ed91effabdec31f93cb4212b008c8b8ba047fd55fabebf6fd727'),\n",
       " 'miner': '0x0000000000000000000000000000000000000000',\n",
       " 'difficulty': 131072,\n",
       " 'totalDifficulty': 131072,\n",
       " 'size': 511,\n",
       " 'extraData': HexBytes('0x0000000000000000000000000000000000000000000000000000000000000000'),\n",
       " 'gasLimit': 3141592,\n",
       " 'gasUsed': 0,\n",
       " 'timestamp': 1595714323,\n",
       " 'transactions': [],\n",
       " 'uncles': []})"
      ]
     },
     "execution_count": 3,
     "metadata": {},
     "output_type": "execute_result"
    }
   ],
   "source": [
    "w3.eth.getBlock('latest')"
   ]
  },
  {
   "cell_type": "code",
   "execution_count": 4,
   "metadata": {
    "ExecuteTime": {
     "end_time": "2020-07-25T21:58:43.959019Z",
     "start_time": "2020-07-25T21:58:43.897057Z"
    }
   },
   "outputs": [],
   "source": [
    "import sys\n",
    "import time\n",
    "import pprint\n",
    "\n",
    "from web3.providers.eth_tester import EthereumTesterProvider\n",
    "from web3 import Web3\n",
    "from eth_tester import PyEVMBackend\n",
    "from solcx import compile_source\n",
    "\n",
    "def compile_source_file(file_path):\n",
    "   with open(file_path, 'r') as f:\n",
    "      source = f.read()\n",
    "\n",
    "   return compile_source(source)"
   ]
  },
  {
   "cell_type": "code",
   "execution_count": 5,
   "metadata": {
    "ExecuteTime": {
     "end_time": "2020-07-25T21:58:43.985986Z",
     "start_time": "2020-07-25T21:58:43.964510Z"
    }
   },
   "outputs": [
    {
     "data": {
      "text/plain": [
       "Version('0.6.12+commit.27d51765.Darwin.appleclang')"
      ]
     },
     "execution_count": 5,
     "metadata": {},
     "output_type": "execute_result"
    }
   ],
   "source": [
    "from solcx import get_solc_version, set_solc_version\n",
    "get_solc_version()"
   ]
  },
  {
   "cell_type": "code",
   "execution_count": 6,
   "metadata": {
    "ExecuteTime": {
     "end_time": "2020-07-25T21:58:43.996077Z",
     "start_time": "2020-07-25T21:58:43.991393Z"
    }
   },
   "outputs": [],
   "source": [
    "from solcx import install_solc\n",
    "# install_solc('v0.4.24', allow_osx=True)"
   ]
  },
  {
   "cell_type": "code",
   "execution_count": 7,
   "metadata": {
    "ExecuteTime": {
     "end_time": "2020-07-25T21:58:44.060118Z",
     "start_time": "2020-07-25T21:58:43.999475Z"
    }
   },
   "outputs": [
    {
     "data": {
      "text/plain": [
       "{'<stdin>:Foo': {'abi': [{'inputs': [],\n",
       "    'name': 'f',\n",
       "    'outputs': [],\n",
       "    'stateMutability': 'nonpayable',\n",
       "    'type': 'function'}],\n",
       "  'asm': {'.code': [{'begin': 0,\n",
       "     'end': 39,\n",
       "     'name': 'PUSH',\n",
       "     'source': 0,\n",
       "     'value': '80'},\n",
       "    {'begin': 0, 'end': 39, 'name': 'PUSH', 'source': 0, 'value': '40'},\n",
       "    {'begin': 0, 'end': 39, 'name': 'MSTORE', 'source': 0},\n",
       "    {'begin': 0, 'end': 39, 'name': 'CALLVALUE', 'source': 0},\n",
       "    {'begin': 0, 'end': 39, 'name': 'DUP1', 'source': 0},\n",
       "    {'begin': 0, 'end': 39, 'name': 'ISZERO', 'source': 0},\n",
       "    {'begin': 0, 'end': 39, 'name': 'PUSH [tag]', 'source': 0, 'value': '1'},\n",
       "    {'begin': 0, 'end': 39, 'name': 'JUMPI', 'source': 0},\n",
       "    {'begin': 0, 'end': 39, 'name': 'PUSH', 'source': 0, 'value': '0'},\n",
       "    {'begin': 0, 'end': 39, 'name': 'DUP1', 'source': 0},\n",
       "    {'begin': 0, 'end': 39, 'name': 'REVERT', 'source': 0},\n",
       "    {'begin': 0, 'end': 39, 'name': 'tag', 'source': 0, 'value': '1'},\n",
       "    {'begin': 0, 'end': 39, 'name': 'JUMPDEST', 'source': 0},\n",
       "    {'begin': 0, 'end': 39, 'name': 'POP', 'source': 0},\n",
       "    {'begin': 0,\n",
       "     'end': 39,\n",
       "     'name': 'PUSH #[$]',\n",
       "     'source': 0,\n",
       "     'value': '0000000000000000000000000000000000000000000000000000000000000000'},\n",
       "    {'begin': 0, 'end': 39, 'name': 'DUP1', 'source': 0},\n",
       "    {'begin': 0,\n",
       "     'end': 39,\n",
       "     'name': 'PUSH [$]',\n",
       "     'source': 0,\n",
       "     'value': '0000000000000000000000000000000000000000000000000000000000000000'},\n",
       "    {'begin': 0, 'end': 39, 'name': 'PUSH', 'source': 0, 'value': '0'},\n",
       "    {'begin': 0, 'end': 39, 'name': 'CODECOPY', 'source': 0},\n",
       "    {'begin': 0, 'end': 39, 'name': 'PUSH', 'source': 0, 'value': '0'},\n",
       "    {'begin': 0, 'end': 39, 'name': 'RETURN', 'source': 0}],\n",
       "   '.data': {'0': {'.auxdata': 'a2646970667358221220fb3aef3daff4e4a20a5e4219cc7562ba6efb9006419bfb317bab06111d99a5b764736f6c634300060c0033',\n",
       "     '.code': [{'begin': 0,\n",
       "       'end': 39,\n",
       "       'name': 'PUSH',\n",
       "       'source': 0,\n",
       "       'value': '80'},\n",
       "      {'begin': 0, 'end': 39, 'name': 'PUSH', 'source': 0, 'value': '40'},\n",
       "      {'begin': 0, 'end': 39, 'name': 'MSTORE', 'source': 0},\n",
       "      {'begin': 0, 'end': 39, 'name': 'CALLVALUE', 'source': 0},\n",
       "      {'begin': 0, 'end': 39, 'name': 'DUP1', 'source': 0},\n",
       "      {'begin': 0, 'end': 39, 'name': 'ISZERO', 'source': 0},\n",
       "      {'begin': 0, 'end': 39, 'name': 'PUSH [tag]', 'source': 0, 'value': '1'},\n",
       "      {'begin': 0, 'end': 39, 'name': 'JUMPI', 'source': 0},\n",
       "      {'begin': 0, 'end': 39, 'name': 'PUSH', 'source': 0, 'value': '0'},\n",
       "      {'begin': 0, 'end': 39, 'name': 'DUP1', 'source': 0},\n",
       "      {'begin': 0, 'end': 39, 'name': 'REVERT', 'source': 0},\n",
       "      {'begin': 0, 'end': 39, 'name': 'tag', 'source': 0, 'value': '1'},\n",
       "      {'begin': 0, 'end': 39, 'name': 'JUMPDEST', 'source': 0},\n",
       "      {'begin': 0, 'end': 39, 'name': 'POP', 'source': 0},\n",
       "      {'begin': 0, 'end': 39, 'name': 'PUSH', 'source': 0, 'value': '4'},\n",
       "      {'begin': 0, 'end': 39, 'name': 'CALLDATASIZE', 'source': 0},\n",
       "      {'begin': 0, 'end': 39, 'name': 'LT', 'source': 0},\n",
       "      {'begin': 0, 'end': 39, 'name': 'PUSH [tag]', 'source': 0, 'value': '2'},\n",
       "      {'begin': 0, 'end': 39, 'name': 'JUMPI', 'source': 0},\n",
       "      {'begin': 0, 'end': 39, 'name': 'PUSH', 'source': 0, 'value': '0'},\n",
       "      {'begin': 0, 'end': 39, 'name': 'CALLDATALOAD', 'source': 0},\n",
       "      {'begin': 0, 'end': 39, 'name': 'PUSH', 'source': 0, 'value': 'E0'},\n",
       "      {'begin': 0, 'end': 39, 'name': 'SHR', 'source': 0},\n",
       "      {'begin': 0, 'end': 39, 'name': 'DUP1', 'source': 0},\n",
       "      {'begin': 0,\n",
       "       'end': 39,\n",
       "       'name': 'PUSH',\n",
       "       'source': 0,\n",
       "       'value': '26121FF0'},\n",
       "      {'begin': 0, 'end': 39, 'name': 'EQ', 'source': 0},\n",
       "      {'begin': 0, 'end': 39, 'name': 'PUSH [tag]', 'source': 0, 'value': '3'},\n",
       "      {'begin': 0, 'end': 39, 'name': 'JUMPI', 'source': 0},\n",
       "      {'begin': 0, 'end': 39, 'name': 'tag', 'source': 0, 'value': '2'},\n",
       "      {'begin': 0, 'end': 39, 'name': 'JUMPDEST', 'source': 0},\n",
       "      {'begin': 0, 'end': 39, 'name': 'PUSH', 'source': 0, 'value': '0'},\n",
       "      {'begin': 0, 'end': 39, 'name': 'DUP1', 'source': 0},\n",
       "      {'begin': 0, 'end': 39, 'name': 'REVERT', 'source': 0},\n",
       "      {'begin': 15, 'end': 37, 'name': 'tag', 'source': 0, 'value': '3'},\n",
       "      {'begin': 15, 'end': 37, 'name': 'JUMPDEST', 'source': 0},\n",
       "      {'begin': 15,\n",
       "       'end': 37,\n",
       "       'name': 'PUSH [tag]',\n",
       "       'source': 0,\n",
       "       'value': '4'},\n",
       "      {'begin': 15,\n",
       "       'end': 37,\n",
       "       'name': 'PUSH [tag]',\n",
       "       'source': 0,\n",
       "       'value': '5'},\n",
       "      {'begin': 15, 'end': 37, 'name': 'JUMP', 'source': 0, 'value': '[in]'},\n",
       "      {'begin': 15, 'end': 37, 'name': 'tag', 'source': 0, 'value': '4'},\n",
       "      {'begin': 15, 'end': 37, 'name': 'JUMPDEST', 'source': 0},\n",
       "      {'begin': 15, 'end': 37, 'name': 'STOP', 'source': 0},\n",
       "      {'begin': 15, 'end': 37, 'name': 'tag', 'source': 0, 'value': '5'},\n",
       "      {'begin': 15, 'end': 37, 'name': 'JUMPDEST', 'source': 0},\n",
       "      {'begin': 15,\n",
       "       'end': 37,\n",
       "       'name': 'JUMP',\n",
       "       'source': 0,\n",
       "       'value': '[out]'}]}}},\n",
       "  'bin': '6080604052348015600f57600080fd5b50606d80601d6000396000f3fe6080604052348015600f57600080fd5b506004361060285760003560e01c806326121ff014602d575b600080fd5b60336035565b005b56fea2646970667358221220fb3aef3daff4e4a20a5e4219cc7562ba6efb9006419bfb317bab06111d99a5b764736f6c634300060c0033',\n",
       "  'bin-runtime': '6080604052348015600f57600080fd5b506004361060285760003560e01c806326121ff014602d575b600080fd5b60336035565b005b56fea2646970667358221220fb3aef3daff4e4a20a5e4219cc7562ba6efb9006419bfb317bab06111d99a5b764736f6c634300060c0033',\n",
       "  'devdoc': '{\"kind\":\"dev\",\"methods\":{},\"version\":1}',\n",
       "  'opcodes': 'PUSH1 0x80 PUSH1 0x40 MSTORE CALLVALUE DUP1 ISZERO PUSH1 0xF JUMPI PUSH1 0x0 DUP1 REVERT JUMPDEST POP PUSH1 0x6D DUP1 PUSH1 0x1D PUSH1 0x0 CODECOPY PUSH1 0x0 RETURN INVALID PUSH1 0x80 PUSH1 0x40 MSTORE CALLVALUE DUP1 ISZERO PUSH1 0xF JUMPI PUSH1 0x0 DUP1 REVERT JUMPDEST POP PUSH1 0x4 CALLDATASIZE LT PUSH1 0x28 JUMPI PUSH1 0x0 CALLDATALOAD PUSH1 0xE0 SHR DUP1 PUSH4 0x26121FF0 EQ PUSH1 0x2D JUMPI JUMPDEST PUSH1 0x0 DUP1 REVERT JUMPDEST PUSH1 0x33 PUSH1 0x35 JUMP JUMPDEST STOP JUMPDEST JUMP INVALID LOG2 PUSH5 0x6970667358 0x22 SLT KECCAK256 0xFB GASPRICE 0xEF RETURNDATASIZE 0xAF DELEGATECALL 0xE4 LOG2 EXP 0x5E TIMESTAMP NOT 0xCC PUSH22 0x62BA6EFB9006419BFB317BAB06111D99A5B764736F6C PUSH4 0x4300060C STOP CALLER ',\n",
       "  'userdoc': '{\"kind\":\"user\",\"methods\":{},\"version\":1}',\n",
       "  'ast': {'attributes': {'absolutePath': '<stdin>',\n",
       "    'exportedSymbols': {'Foo': [5]},\n",
       "    'license': None},\n",
       "   'children': [{'attributes': {'abstract': False,\n",
       "      'baseContracts': [None],\n",
       "      'contractDependencies': [None],\n",
       "      'contractKind': 'contract',\n",
       "      'documentation': None,\n",
       "      'fullyImplemented': True,\n",
       "      'linearizedBaseContracts': [5],\n",
       "      'name': 'Foo',\n",
       "      'scope': 6},\n",
       "     'children': [{'attributes': {'documentation': None,\n",
       "        'functionSelector': '26121ff0',\n",
       "        'implemented': True,\n",
       "        'isConstructor': False,\n",
       "        'kind': 'function',\n",
       "        'modifiers': [None],\n",
       "        'name': 'f',\n",
       "        'overrides': None,\n",
       "        'scope': 5,\n",
       "        'stateMutability': 'nonpayable',\n",
       "        'virtual': False,\n",
       "        'visibility': 'public'},\n",
       "       'children': [{'attributes': {'parameters': [None]},\n",
       "         'children': [],\n",
       "         'id': 1,\n",
       "         'name': 'ParameterList',\n",
       "         'src': '25:2:0'},\n",
       "        {'attributes': {'parameters': [None]},\n",
       "         'children': [],\n",
       "         'id': 2,\n",
       "         'name': 'ParameterList',\n",
       "         'src': '35:0:0'},\n",
       "        {'attributes': {'statements': [None]},\n",
       "         'children': [],\n",
       "         'id': 3,\n",
       "         'name': 'Block',\n",
       "         'src': '35:2:0'}],\n",
       "       'id': 4,\n",
       "       'name': 'FunctionDefinition',\n",
       "       'src': '15:22:0'}],\n",
       "     'id': 5,\n",
       "     'name': 'ContractDefinition',\n",
       "     'src': '0:39:0'}],\n",
       "   'id': 6,\n",
       "   'name': 'SourceUnit',\n",
       "   'src': '0:40:0'}}}"
      ]
     },
     "execution_count": 7,
     "metadata": {},
     "output_type": "execute_result"
    }
   ],
   "source": [
    "from solcx import compile_source, compile_files\n",
    "compile_source(\"contract Foo { function f() public {} }\")"
   ]
  },
  {
   "cell_type": "code",
   "execution_count": 8,
   "metadata": {
    "ExecuteTime": {
     "end_time": "2020-07-25T21:58:44.123488Z",
     "start_time": "2020-07-25T21:58:44.080101Z"
    }
   },
   "outputs": [
    {
     "name": "stderr",
     "output_type": "stream",
     "text": [
      "/Users/xiaofeiwu/miniconda3/envs/bigdata/lib/python3.7/site-packages/solc/utils/types.py:39: DeprecationWarning: Using or importing the ABCs from 'collections' instead of from 'collections.abc' is deprecated since Python 3.3,and in 3.9 it will stop working\n",
      "  return isinstance(obj, collections.Mapping)\n",
      "/Users/xiaofeiwu/miniconda3/envs/bigdata/lib/python3.7/site-packages/solc/utils/types.py:43: DeprecationWarning: Using or importing the ABCs from 'collections' instead of from 'collections.abc' is deprecated since Python 3.3,and in 3.9 it will stop working\n",
      "  return not is_string(obj) and isinstance(obj, collections.Sequence)\n"
     ]
    }
   ],
   "source": [
    "from solc import compile_standard\n",
    "compiled_sol = compile_standard({\n",
    "    \"language\": \"Solidity\",\n",
    "    \"sources\": {\n",
    "        \"Greeter.sol\": {\n",
    "            \"content\": '''\n",
    "                pragma solidity ^0.6.0;\n",
    "\n",
    "                contract Greeter {\n",
    "                  string public greeting;\n",
    "\n",
    "                  constructor() public {\n",
    "                      greeting = 'Hello';\n",
    "                  }\n",
    "\n",
    "                  function setGreeting(string memory _greeting) public {\n",
    "                      greeting = _greeting;\n",
    "                  }\n",
    "\n",
    "                  function greet() view public returns (string memory) {\n",
    "                      return greeting;\n",
    "                  }\n",
    "                }\n",
    "              '''\n",
    "        }\n",
    "    },\n",
    "    \"settings\":\n",
    "        {\n",
    "            \"outputSelection\": {\n",
    "                \"*\": {\n",
    "                    \"*\": [\n",
    "                        \"metadata\", \"evm.bytecode\"\n",
    "                        , \"evm.bytecode.sourceMap\"\n",
    "                    ]\n",
    "                }\n",
    "            }\n",
    "        }\n",
    "})"
   ]
  },
  {
   "cell_type": "code",
   "execution_count": 9,
   "metadata": {
    "ExecuteTime": {
     "end_time": "2020-07-25T21:58:44.154510Z",
     "start_time": "2020-07-25T21:58:44.140901Z"
    }
   },
   "outputs": [],
   "source": [
    "w3.eth.defaultAccount = w3.eth.accounts[0]"
   ]
  },
  {
   "cell_type": "code",
   "execution_count": 10,
   "metadata": {
    "ExecuteTime": {
     "end_time": "2020-07-25T21:58:44.179118Z",
     "start_time": "2020-07-25T21:58:44.166512Z"
    }
   },
   "outputs": [],
   "source": [
    "bytecode = compiled_sol['contracts']['Greeter.sol']['Greeter']['evm']['bytecode']['object']"
   ]
  },
  {
   "cell_type": "code",
   "execution_count": 11,
   "metadata": {
    "ExecuteTime": {
     "end_time": "2020-07-25T21:58:44.197487Z",
     "start_time": "2020-07-25T21:58:44.189695Z"
    }
   },
   "outputs": [],
   "source": [
    "import json\n",
    "abi = json.loads(compiled_sol['contracts']['Greeter.sol']['Greeter']['metadata'])['output']['abi']"
   ]
  },
  {
   "cell_type": "code",
   "execution_count": 18,
   "metadata": {
    "ExecuteTime": {
     "end_time": "2020-07-25T22:19:21.935897Z",
     "start_time": "2020-07-25T22:19:21.929171Z"
    }
   },
   "outputs": [
    {
     "data": {
      "text/plain": [
       "[{'inputs': [], 'stateMutability': 'nonpayable', 'type': 'constructor'},\n",
       " {'inputs': [],\n",
       "  'name': 'greet',\n",
       "  'outputs': [{'internalType': 'string', 'name': '', 'type': 'string'}],\n",
       "  'stateMutability': 'view',\n",
       "  'type': 'function'},\n",
       " {'inputs': [],\n",
       "  'name': 'greeting',\n",
       "  'outputs': [{'internalType': 'string', 'name': '', 'type': 'string'}],\n",
       "  'stateMutability': 'view',\n",
       "  'type': 'function'},\n",
       " {'inputs': [{'internalType': 'string',\n",
       "    'name': '_greeting',\n",
       "    'type': 'string'}],\n",
       "  'name': 'setGreeting',\n",
       "  'outputs': [],\n",
       "  'stateMutability': 'nonpayable',\n",
       "  'type': 'function'}]"
      ]
     },
     "execution_count": 18,
     "metadata": {},
     "output_type": "execute_result"
    }
   ],
   "source": [
    "abi"
   ]
  },
  {
   "cell_type": "code",
   "execution_count": 12,
   "metadata": {
    "ExecuteTime": {
     "end_time": "2020-07-25T21:58:44.231103Z",
     "start_time": "2020-07-25T21:58:44.205615Z"
    }
   },
   "outputs": [],
   "source": [
    "Greeter = w3.eth.contract(abi=abi, bytecode=bytecode)"
   ]
  },
  {
   "cell_type": "code",
   "execution_count": 13,
   "metadata": {
    "ExecuteTime": {
     "end_time": "2020-07-25T21:58:44.354224Z",
     "start_time": "2020-07-25T21:58:44.238610Z"
    }
   },
   "outputs": [],
   "source": [
    "# Submit the transaction that deploys the contract\n",
    "tx_hash = Greeter.constructor().transact()"
   ]
  },
  {
   "cell_type": "code",
   "execution_count": 14,
   "metadata": {
    "ExecuteTime": {
     "end_time": "2020-07-25T21:58:44.378392Z",
     "start_time": "2020-07-25T21:58:44.356610Z"
    }
   },
   "outputs": [],
   "source": [
    "# Wait for the transaction to be mined, and get the transaction receipt\n",
    "tx_receipt = w3.eth.waitForTransactionReceipt(tx_hash)"
   ]
  },
  {
   "cell_type": "code",
   "execution_count": 15,
   "metadata": {
    "ExecuteTime": {
     "end_time": "2020-07-25T21:58:44.406318Z",
     "start_time": "2020-07-25T21:58:44.386306Z"
    }
   },
   "outputs": [],
   "source": [
    "greeter = w3.eth.contract(\n",
    "    address=tx_receipt.contractAddress,\n",
    "    abi=abi\n",
    ")"
   ]
  },
  {
   "cell_type": "code",
   "execution_count": 16,
   "metadata": {
    "ExecuteTime": {
     "end_time": "2020-07-25T21:58:44.533299Z",
     "start_time": "2020-07-25T21:58:44.409370Z"
    }
   },
   "outputs": [
    {
     "data": {
      "text/plain": [
       "'Hello'"
      ]
     },
     "execution_count": 16,
     "metadata": {},
     "output_type": "execute_result"
    }
   ],
   "source": [
    "greeter.functions.greet().call()"
   ]
  },
  {
   "cell_type": "code",
   "execution_count": 17,
   "metadata": {
    "ExecuteTime": {
     "end_time": "2020-07-25T21:58:44.798810Z",
     "start_time": "2020-07-25T21:58:44.541014Z"
    }
   },
   "outputs": [
    {
     "data": {
      "text/plain": [
       "'Nihao'"
      ]
     },
     "execution_count": 17,
     "metadata": {},
     "output_type": "execute_result"
    }
   ],
   "source": [
    "tx_hash = greeter.functions.setGreeting('Nihao').transact()\n",
    "tx_receipt = w3.eth.waitForTransactionReceipt(tx_hash)\n",
    "greeter.functions.greet().call()"
   ]
  }
 ],
 "metadata": {
  "kernelspec": {
   "display_name": "Python 3",
   "language": "python",
   "name": "python3"
  },
  "language_info": {
   "codemirror_mode": {
    "name": "ipython",
    "version": 3
   },
   "file_extension": ".py",
   "mimetype": "text/x-python",
   "name": "python",
   "nbconvert_exporter": "python",
   "pygments_lexer": "ipython3",
   "version": "3.7.7"
  },
  "varInspector": {
   "cols": {
    "lenName": 16,
    "lenType": 16,
    "lenVar": 40
   },
   "kernels_config": {
    "python": {
     "delete_cmd_postfix": "",
     "delete_cmd_prefix": "del ",
     "library": "var_list.py",
     "varRefreshCmd": "print(var_dic_list())"
    },
    "r": {
     "delete_cmd_postfix": ") ",
     "delete_cmd_prefix": "rm(",
     "library": "var_list.r",
     "varRefreshCmd": "cat(var_dic_list()) "
    }
   },
   "types_to_exclude": [
    "module",
    "function",
    "builtin_function_or_method",
    "instance",
    "_Feature"
   ],
   "window_display": false
  }
 },
 "nbformat": 4,
 "nbformat_minor": 4
}
